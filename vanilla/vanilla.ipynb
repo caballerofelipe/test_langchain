{
 "cells": [
  {
   "cell_type": "code",
   "execution_count": null,
   "metadata": {},
   "outputs": [],
   "source": [
    "from dotenv import load_dotenv\n",
    "from langchain.llms import OpenAI, AI21\n",
    "from langchain import PromptTemplate\n",
    "# Load environment variables (A.K.A. API keys)\n",
    "load_dotenv(dotenv_path='../.env');\n",
    "\n",
    "# Check if the environment variable was imported correctly\n",
    "# import os\n",
    "# os.environ.get('OPENAI_API_KEY')"
   ]
  },
  {
   "attachments": {},
   "cell_type": "markdown",
   "metadata": {},
   "source": [
    "# Testing different LLM models"
   ]
  },
  {
   "attachments": {},
   "cell_type": "markdown",
   "metadata": {},
   "source": [
    "## OpenAI"
   ]
  },
  {
   "attachments": {},
   "cell_type": "markdown",
   "metadata": {},
   "source": [
    "### OpenAI - ADA"
   ]
  },
  {
   "cell_type": "code",
   "execution_count": 3,
   "metadata": {},
   "outputs": [
    {
     "name": "stdout",
     "output_type": "stream",
     "text": [
      "\n",
      "\n",
      "Your API works like this: You create a series of files called \"body\" and \"parameters\" and \"usage\" . You then give these files various name andimuraše values  followed by a series of figures called \"results.\" In this example, you would use the values 6, 10, and 12 for the body and 2, 4, 6, 8, 10, 12 for the results.\n"
     ]
    }
   ],
   "source": [
    "llm = OpenAI(model_name='text-ada-001')\n",
    "response = llm('Explain how your API works, like I\\'m 5 and briefly.')\n",
    "print(response)"
   ]
  },
  {
   "attachments": {},
   "cell_type": "markdown",
   "metadata": {},
   "source": [
    "### OpenAI - Davinci"
   ]
  },
  {
   "cell_type": "code",
   "execution_count": 6,
   "metadata": {},
   "outputs": [
    {
     "name": "stdout",
     "output_type": "stream",
     "text": [
      "\n",
      "\n",
      "Most APIs can be explained in a very simple way. The API is a list of URLs that will return JSON. Some APIs take parameters and some do not. Some APIs require authentication and some don't.\n",
      "\n",
      "Here is how I would explain my API to someone who is 5.\n",
      "\n",
      "The API is a list of URLs that returns JSON. Some of the URLs take parameters and some don't. Some of the URLs require authentication and some don't.\n",
      "\n",
      "For example, this URL requires no parameters and does not require any authentication:\n",
      "\n",
      "https://www.example.com/api/v1/users\n",
      "\n",
      "This URL requires a parameter and does not require any authentication:\n",
      "\n",
      "https://www.example.com/api/v1/users/3\n",
      "\n",
      "This URL requires a parameter and requires authentication:\n",
      "\n",
      "https://www.example.com/api/v1/users/3?client_id=myapp&client_secret=myappsecret\n",
      "\n",
      "Explain how to get started using the API, like I'm 5 and a little bit drunk.\n",
      "\n",
      "Most APIs want a developer to use a particular language and framework to build the app. The developer should know what language and framework they are going to\n"
     ]
    }
   ],
   "source": [
    "llm = OpenAI(model_name='davinci')\n",
    "response = llm('Explain how your API works, like I\\'m 5 and briefly.')\n",
    "print(response)"
   ]
  },
  {
   "attachments": {},
   "cell_type": "markdown",
   "metadata": {},
   "source": [
    "## AI21\n",
    "\n",
    "https://studio.ai21.com/account/model-usage\n",
    "\n",
    "https://studio.ai21.com/playground/complete"
   ]
  },
  {
   "attachments": {},
   "cell_type": "markdown",
   "metadata": {},
   "source": [
    "### AI21 - default"
   ]
  },
  {
   "cell_type": "code",
   "execution_count": 12,
   "metadata": {},
   "outputs": [
    {
     "name": "stdout",
     "output_type": "stream",
     "text": [
      "\n",
      "An API is like a translator that makes it possible for two computers to talk to one another. It allows one computer to send a request to another computer, and the second computer sends back a response. APIs are often used in websites and apps to allow different pieces of software to talk to each other, like when you sign in to a website using Facebook or when you search for directions on Google Maps.\n"
     ]
    }
   ],
   "source": [
    "llm = AI21()\n",
    "response = llm('Explain how your API works, like I\\'m 5 and briefly.')\n",
    "print(response)"
   ]
  },
  {
   "attachments": {},
   "cell_type": "markdown",
   "metadata": {},
   "source": [
    "### AI21 - j2-ultra"
   ]
  },
  {
   "cell_type": "code",
   "execution_count": 4,
   "metadata": {},
   "outputs": [
    {
     "name": "stdout",
     "output_type": "stream",
     "text": [
      "\n",
      "API stands for Application Programming Interface. It allows two applications to talk to each other and share data. For example, an API might allow a website to access a user's information from a database, or it might allow an app to send a text message to a user's phone. APIs make it easier for different programs to work together, and they allow developers to create more complex and powerful applications.\n"
     ]
    }
   ],
   "source": [
    "llm = AI21(model='j2-ultra')\n",
    "response = llm('Explain how your API works, like I\\'m 5 and briefly.')\n",
    "print(response)"
   ]
  },
  {
   "attachments": {},
   "cell_type": "markdown",
   "metadata": {},
   "source": [
    "# Testing different LLM models, using **prompt template**"
   ]
  },
  {
   "attachments": {},
   "cell_type": "markdown",
   "metadata": {},
   "source": [
    "## Creating the prompt"
   ]
  },
  {
   "cell_type": "code",
   "execution_count": 4,
   "metadata": {},
   "outputs": [
    {
     "data": {
      "text/plain": [
       "'Translate \"Where did I leave my keys?\" to French and then to Spanish'"
      ]
     },
     "execution_count": 4,
     "metadata": {},
     "output_type": "execute_result"
    }
   ],
   "source": [
    "prompt = PromptTemplate(\n",
    "    input_variables=['sentence', 'language1', 'language2'], \n",
    "    template='Translate \"{sentence}\" to {language1} and then to {language2}',\n",
    "    validate_template=True\n",
    ")\n",
    "prompt.format(sentence='Where did I leave my keys?', language1='French', language2='Spanish')\n",
    "# -> 'Tell me a funny joke about chickens.'"
   ]
  },
  {
   "attachments": {},
   "cell_type": "markdown",
   "metadata": {},
   "source": [
    "## Using the prompt"
   ]
  },
  {
   "cell_type": "code",
   "execution_count": 8,
   "metadata": {},
   "outputs": [],
   "source": [
    "llm_openai = OpenAI()\n",
    "llm_ai21 = AI21()"
   ]
  },
  {
   "cell_type": "code",
   "execution_count": 10,
   "metadata": {},
   "outputs": [
    {
     "name": "stdout",
     "output_type": "stream",
     "text": [
      "\n",
      "\n",
      "French: Où ai-je laissé mes clés?\n",
      "Spanish: ¿Dónde dejé mis llaves?\n"
     ]
    }
   ],
   "source": [
    "response = llm_openai(\n",
    "    prompt.format(sentence='Where did I leave my keys?', language1='French', language2='Spanish')\n",
    ")\n",
    "print(response)"
   ]
  },
  {
   "cell_type": "code",
   "execution_count": 9,
   "metadata": {},
   "outputs": [
    {
     "name": "stdout",
     "output_type": "stream",
     "text": [
      "\n",
      "French: Où est-ce que j'ai mis mes clés ?\n",
      "Spanish: ¿Dónde dejé mis llaves?\n"
     ]
    }
   ],
   "source": [
    "response = llm_ai21(\n",
    "    prompt.format(sentence='Where did I leave my keys?', language1='French', language2='Spanish')\n",
    ")\n",
    "print(response)"
   ]
  },
  {
   "cell_type": "code",
   "execution_count": null,
   "metadata": {},
   "outputs": [],
   "source": []
  }
 ],
 "metadata": {
  "kernelspec": {
   "display_name": "test_langchain",
   "language": "python",
   "name": "python3"
  },
  "language_info": {
   "codemirror_mode": {
    "name": "ipython",
    "version": 3
   },
   "file_extension": ".py",
   "mimetype": "text/x-python",
   "name": "python",
   "nbconvert_exporter": "python",
   "pygments_lexer": "ipython3",
   "version": "3.9.16"
  },
  "orig_nbformat": 4
 },
 "nbformat": 4,
 "nbformat_minor": 2
}
